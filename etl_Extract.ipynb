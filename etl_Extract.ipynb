{
 "cells": [
  {
   "cell_type": "code",
   "execution_count": 1,
   "id": "b1f810aa",
   "metadata": {},
   "outputs": [],
   "source": [
    "# Import Libraries"
   ]
  },
  {
   "cell_type": "code",
   "execution_count": 2,
   "id": "9406a287",
   "metadata": {},
   "outputs": [],
   "source": [
    "import pandas as pd\n",
    "import numpy as np\n"
   ]
  },
  {
   "cell_type": "markdown",
   "id": "83d3249b",
   "metadata": {},
   "source": [
    "Load  Datasets Using Pandas"
   ]
  },
  {
   "cell_type": "code",
   "execution_count": 4,
   "id": "32069f05",
   "metadata": {},
   "outputs": [],
   "source": [
    "# Load main dataset\n",
    "raw_data = pd.read_csv('data/raw_data.csv', encoding='ISO-8859-1')\n"
   ]
  },
  {
   "cell_type": "markdown",
   "id": "d2d6fb38",
   "metadata": {},
   "source": [
    "Convert InvoiceDate to Date Format \n"
   ]
  },
  {
   "cell_type": "code",
   "execution_count": 5,
   "id": "24ee69e9",
   "metadata": {},
   "outputs": [],
   "source": [
    "# Convert date column to datetime format\n",
    "raw_data['InvoiceDate'] = pd.to_datetime(raw_data['InvoiceDate'], errors='coerce')\n"
   ]
  },
  {
   "cell_type": "markdown",
   "id": "f1e6996a",
   "metadata": {},
   "source": [
    "Create Incremental Subset (Recent Month or Random Sample)"
   ]
  },
  {
   "cell_type": "code",
   "execution_count": 6,
   "id": "835be591",
   "metadata": {},
   "outputs": [],
   "source": [
    "# Get the latest month from the dataset\n",
    "latest_month = raw_data['InvoiceDate'].dt.to_period('M').max()\n",
    "incremental_data = raw_data[raw_data['InvoiceDate'].dt.to_period('M') == latest_month]\n"
   ]
  },
  {
   "cell_type": "code",
   "execution_count": 7,
   "id": "fdce3ed4",
   "metadata": {},
   "outputs": [
    {
     "name": "stdout",
     "output_type": "stream",
     "text": [
      "Incremental dataset saved with shape: (25525, 8)\n"
     ]
    }
   ],
   "source": [
    "# Save to the data folder\n",
    "incremental_data.to_csv('data/incremental_data.csv', index=False)\n",
    "print(\"Incremental dataset saved with shape:\", incremental_data.shape)\n"
   ]
  },
  {
   "cell_type": "code",
   "execution_count": 8,
   "id": "d49aef5a",
   "metadata": {},
   "outputs": [
    {
     "name": "stdout",
     "output_type": "stream",
     "text": [
      "RAW DATA HEAD:\n",
      "  InvoiceNo StockCode                          Description  Quantity  \\\n",
      "0    536365    85123A   WHITE HANGING HEART T-LIGHT HOLDER         6   \n",
      "1    536365     71053                  WHITE METAL LANTERN         6   \n",
      "2    536365    84406B       CREAM CUPID HEARTS COAT HANGER         8   \n",
      "3    536365    84029G  KNITTED UNION FLAG HOT WATER BOTTLE         6   \n",
      "4    536365    84029E       RED WOOLLY HOTTIE WHITE HEART.         6   \n",
      "\n",
      "          InvoiceDate  UnitPrice  CustomerID         Country  \n",
      "0 2010-12-01 08:26:00       2.55     17850.0  United Kingdom  \n",
      "1 2010-12-01 08:26:00       3.39     17850.0  United Kingdom  \n",
      "2 2010-12-01 08:26:00       2.75     17850.0  United Kingdom  \n",
      "3 2010-12-01 08:26:00       3.39     17850.0  United Kingdom  \n",
      "4 2010-12-01 08:26:00       3.39     17850.0  United Kingdom  \n",
      "\n",
      "RAW DATA INFO:\n",
      "<class 'pandas.core.frame.DataFrame'>\n",
      "RangeIndex: 541909 entries, 0 to 541908\n",
      "Data columns (total 8 columns):\n",
      " #   Column       Non-Null Count   Dtype         \n",
      "---  ------       --------------   -----         \n",
      " 0   InvoiceNo    541909 non-null  object        \n",
      " 1   StockCode    541909 non-null  object        \n",
      " 2   Description  540455 non-null  object        \n",
      " 3   Quantity     541909 non-null  int64         \n",
      " 4   InvoiceDate  541909 non-null  datetime64[ns]\n",
      " 5   UnitPrice    541909 non-null  float64       \n",
      " 6   CustomerID   406829 non-null  float64       \n",
      " 7   Country      541909 non-null  object        \n",
      "dtypes: datetime64[ns](1), float64(2), int64(1), object(4)\n",
      "memory usage: 33.1+ MB\n",
      "\n",
      "RAW DATA DESCRIPTION:\n",
      "            Quantity                    InvoiceDate      UnitPrice  \\\n",
      "count  541909.000000                         541909  541909.000000   \n",
      "mean        9.552250  2011-07-04 13:34:57.156386048       4.611114   \n",
      "min    -80995.000000            2010-12-01 08:26:00  -11062.060000   \n",
      "25%         1.000000            2011-03-28 11:34:00       1.250000   \n",
      "50%         3.000000            2011-07-19 17:17:00       2.080000   \n",
      "75%        10.000000            2011-10-19 11:27:00       4.130000   \n",
      "max     80995.000000            2011-12-09 12:50:00   38970.000000   \n",
      "std       218.081158                            NaN      96.759853   \n",
      "\n",
      "          CustomerID  \n",
      "count  406829.000000  \n",
      "mean    15287.690570  \n",
      "min     12346.000000  \n",
      "25%     13953.000000  \n",
      "50%     15152.000000  \n",
      "75%     16791.000000  \n",
      "max     18287.000000  \n",
      "std      1713.600303  \n",
      "\n",
      "INCREMENTAL DATA HEAD:\n",
      "       InvoiceNo StockCode                         Description  Quantity  \\\n",
      "516384   C579889     23245          SET OF 3 REGENCY CAKE TINS        -8   \n",
      "516385   C579890     84947   ANTIQUE SILVER TEA GLASS ENGRAVED        -1   \n",
      "516386   C579890     23374             RED SPOT PAPER GIFT BAG        -1   \n",
      "516387   C579890     84945  MULTI COLOUR SILVER T-LIGHT HOLDER        -2   \n",
      "516388   C579891     23485       BOTANICAL GARDENS WALL CLOCK         -1   \n",
      "\n",
      "               InvoiceDate  UnitPrice  CustomerID         Country  \n",
      "516384 2011-12-01 08:12:00       4.15     13853.0  United Kingdom  \n",
      "516385 2011-12-01 08:14:00       1.25     15197.0  United Kingdom  \n",
      "516386 2011-12-01 08:14:00       0.82     15197.0  United Kingdom  \n",
      "516387 2011-12-01 08:14:00       0.85     15197.0  United Kingdom  \n",
      "516388 2011-12-01 08:18:00      25.00     13644.0  United Kingdom  \n",
      "\n",
      "INCREMENTAL DATA INFO:\n",
      "<class 'pandas.core.frame.DataFrame'>\n",
      "Index: 25525 entries, 516384 to 541908\n",
      "Data columns (total 8 columns):\n",
      " #   Column       Non-Null Count  Dtype         \n",
      "---  ------       --------------  -----         \n",
      " 0   InvoiceNo    25525 non-null  object        \n",
      " 1   StockCode    25525 non-null  object        \n",
      " 2   Description  25510 non-null  object        \n",
      " 3   Quantity     25525 non-null  int64         \n",
      " 4   InvoiceDate  25525 non-null  datetime64[ns]\n",
      " 5   UnitPrice    25525 non-null  float64       \n",
      " 6   CustomerID   17661 non-null  float64       \n",
      " 7   Country      25525 non-null  object        \n",
      "dtypes: datetime64[ns](1), float64(2), int64(1), object(4)\n",
      "memory usage: 1.8+ MB\n",
      "\n",
      "INCREMENTAL DATA DESCRIPTION:\n",
      "           Quantity                    InvoiceDate     UnitPrice    CustomerID\n",
      "count  25525.000000                          25525  25525.000000  17661.000000\n",
      "mean       8.867111  2011-12-05 20:26:10.413320448      5.246451  15302.368326\n",
      "min   -80995.000000            2011-12-01 08:12:00      0.000000  12347.000000\n",
      "25%        1.000000            2011-12-04 12:31:00      1.250000  13969.000000\n",
      "50%        3.000000            2011-12-05 17:28:00      2.080000  15031.000000\n",
      "75%       10.000000            2011-12-08 09:20:00      4.130000  16905.000000\n",
      "max    80995.000000            2011-12-09 12:50:00  17836.460000  18283.000000\n",
      "std      717.849018                            NaN    137.541411   1727.644538\n"
     ]
    }
   ],
   "source": [
    "print(\"RAW DATA HEAD:\")\n",
    "print(raw_data.head())\n",
    "\n",
    "print(\"\\nRAW DATA INFO:\")\n",
    "raw_data.info()\n",
    "\n",
    "print(\"\\nRAW DATA DESCRIPTION:\")\n",
    "print(raw_data.describe())\n",
    "\n",
    "print(\"\\nINCREMENTAL DATA HEAD:\")\n",
    "print(incremental_data.head())\n",
    "\n",
    "print(\"\\nINCREMENTAL DATA INFO:\")\n",
    "incremental_data.info()\n",
    "\n",
    "print(\"\\nINCREMENTAL DATA DESCRIPTION:\")\n",
    "print(incremental_data.describe())\n"
   ]
  },
  {
   "cell_type": "markdown",
   "id": "cf276b0d",
   "metadata": {},
   "source": [
    "- This helps you understand what’s inside each dataset (column names, data types, missing values, etc.)."
   ]
  },
  {
   "cell_type": "markdown",
   "id": "bd18b703",
   "metadata": {},
   "source": [
    "3. Identify and discuss at least three data quality issues"
   ]
  },
  {
   "cell_type": "code",
   "execution_count": 9,
   "id": "ba586d70",
   "metadata": {},
   "outputs": [
    {
     "name": "stdout",
     "output_type": "stream",
     "text": [
      "\n",
      "Missing values per column (Raw):\n",
      "InvoiceNo           0\n",
      "StockCode           0\n",
      "Description      1454\n",
      "Quantity            0\n",
      "InvoiceDate         0\n",
      "UnitPrice           0\n",
      "CustomerID     135080\n",
      "Country             0\n",
      "dtype: int64\n",
      "\n",
      "Number of duplicates (Raw): 5268\n",
      "\n",
      "Data types:\n",
      "InvoiceNo              object\n",
      "StockCode              object\n",
      "Description            object\n",
      "Quantity                int64\n",
      "InvoiceDate    datetime64[ns]\n",
      "UnitPrice             float64\n",
      "CustomerID            float64\n",
      "Country                object\n",
      "dtype: object\n"
     ]
    }
   ],
   "source": [
    "# Missing values\n",
    "print(\"\\nMissing values per column (Raw):\")\n",
    "print(raw_data.isnull().sum())\n",
    "\n",
    "# Duplicates\n",
    "print(\"\\nNumber of duplicates (Raw):\", raw_data.duplicated().sum())\n",
    "\n",
    "# Data types\n",
    "print(\"\\nData types:\")\n",
    "print(raw_data.dtypes)\n"
   ]
  },
  {
   "cell_type": "markdown",
   "id": "0c5c9be5",
   "metadata": {},
   "source": [
    "Typical issues we had are ;\n",
    "- Missing values — in columns like CustomerID or Description.\n",
    "- Duplicate rows — identical transactions repeated.\n",
    "- Inconsistent types — InvoiceDate stored as object instead of datetime."
   ]
  },
  {
   "cell_type": "code",
   "execution_count": 10,
   "id": "65aec239",
   "metadata": {},
   "outputs": [
    {
     "name": "stdout",
     "output_type": "stream",
     "text": [
      "Combined dataset shape: (536641, 8)\n"
     ]
    }
   ],
   "source": [
    " #  4. Merge datasets (append new records)\n",
    "\n",
    "# Merge both datasets\n",
    "combined_data = pd.concat([raw_data, incremental_data], ignore_index=True)\n",
    "\n",
    "# Remove duplicates after merge\n",
    "combined_data.drop_duplicates(inplace=True)\n",
    "\n",
    "print(\"Combined dataset shape:\", combined_data.shape)"
   ]
  },
  {
   "cell_type": "markdown",
   "id": "2c1db322",
   "metadata": {},
   "source": [
    "- We merge the incremental data into the raw dataset to have the most complete version.\n",
    "- Dropping duplicates ensures we don’t double-count transactions."
   ]
  },
  {
   "cell_type": "code",
   "execution_count": 11,
   "id": "34fe4212",
   "metadata": {},
   "outputs": [
    {
     "name": "stdout",
     "output_type": "stream",
     "text": [
      "✅ Validated datasets saved successfully.\n"
     ]
    }
   ],
   "source": [
    "# 5. Save validated copies to /data/\n",
    "raw_data.to_csv('data/raw_validated.csv', index=False)\n",
    "combined_data.to_csv('data/combined_validated.csv', index=False)\n",
    "\n",
    "print(\"✅ Validated datasets saved successfully.\")\n"
   ]
  },
  {
   "cell_type": "markdown",
   "id": "7b7727db",
   "metadata": {},
   "source": [
    "- Both cleaned and combined datasets are now saved and ready for the transformation phase."
   ]
  }
 ],
 "metadata": {
  "kernelspec": {
   "display_name": "Python 3",
   "language": "python",
   "name": "python3"
  },
  "language_info": {
   "codemirror_mode": {
    "name": "ipython",
    "version": 3
   },
   "file_extension": ".py",
   "mimetype": "text/x-python",
   "name": "python",
   "nbconvert_exporter": "python",
   "pygments_lexer": "ipython3",
   "version": "3.13.7"
  }
 },
 "nbformat": 4,
 "nbformat_minor": 5
}
