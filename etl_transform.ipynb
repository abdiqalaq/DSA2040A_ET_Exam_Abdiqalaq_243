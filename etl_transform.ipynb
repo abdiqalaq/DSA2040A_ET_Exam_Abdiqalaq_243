{
 "cells": [
  {
   "cell_type": "markdown",
   "id": "1f0f1d67",
   "metadata": {},
   "source": [
    "Import Libraries & Load the Validated Datasets"
   ]
  },
  {
   "cell_type": "code",
   "execution_count": 1,
   "id": "9c036979",
   "metadata": {},
   "outputs": [],
   "source": [
    "import pandas as pd\n",
    "\n",
    "# Load validated datasets\n",
    "full_data = pd.read_csv('data/combined_validated.csv', encoding='ISO-8859-1')\n",
    "incremental_data = pd.read_csv('data/incremental_data.csv', encoding='ISO-8859-1')"
   ]
  },
  {
   "cell_type": "markdown",
   "id": "9e1ae4cd",
   "metadata": {},
   "source": [
    "- We load the validated full and incremental datasets to apply transformations.\n"
   ]
  },
  {
   "cell_type": "markdown",
   "id": "91866832",
   "metadata": {},
   "source": [
    "Check Initial Overview"
   ]
  },
  {
   "cell_type": "code",
   "execution_count": 2,
   "id": "ff7efa63",
   "metadata": {},
   "outputs": [
    {
     "name": "stdout",
     "output_type": "stream",
     "text": [
      "Full Data Shape: (536641, 8)\n",
      "Incremental Data Shape: (25525, 8)\n",
      "  InvoiceNo StockCode                          Description  Quantity  \\\n",
      "0    536365    85123A   WHITE HANGING HEART T-LIGHT HOLDER         6   \n",
      "1    536365     71053                  WHITE METAL LANTERN         6   \n",
      "2    536365    84406B       CREAM CUPID HEARTS COAT HANGER         8   \n",
      "3    536365    84029G  KNITTED UNION FLAG HOT WATER BOTTLE         6   \n",
      "4    536365    84029E       RED WOOLLY HOTTIE WHITE HEART.         6   \n",
      "\n",
      "           InvoiceDate  UnitPrice  CustomerID         Country  \n",
      "0  2010-12-01 08:26:00       2.55     17850.0  United Kingdom  \n",
      "1  2010-12-01 08:26:00       3.39     17850.0  United Kingdom  \n",
      "2  2010-12-01 08:26:00       2.75     17850.0  United Kingdom  \n",
      "3  2010-12-01 08:26:00       3.39     17850.0  United Kingdom  \n",
      "4  2010-12-01 08:26:00       3.39     17850.0  United Kingdom  \n"
     ]
    }
   ],
   "source": [
    "print(\"Full Data Shape:\", full_data.shape)\n",
    "print(\"Incremental Data Shape:\", incremental_data.shape)\n",
    "print(full_data.head())"
   ]
  },
  {
   "cell_type": "markdown",
   "id": "06df26a9",
   "metadata": {},
   "source": [
    "- This confirms both datasets loaded correctly."
   ]
  },
  {
   "cell_type": "markdown",
   "id": "bdab04d0",
   "metadata": {},
   "source": [
    "# APPLY TRANSFORMATIONS"
   ]
  },
  {
   "cell_type": "markdown",
   "id": "fc9916ac",
   "metadata": {},
   "source": [
    "Transformation 1: Handle Missing Values (Cleaning)"
   ]
  },
  {
   "cell_type": "code",
   "execution_count": 3,
   "id": "85e3357f",
   "metadata": {},
   "outputs": [
    {
     "name": "stdout",
     "output_type": "stream",
     "text": [
      "Missing values before cleaning:\n",
      " InvoiceNo           0\n",
      "StockCode           0\n",
      "Description      1454\n",
      "Quantity            0\n",
      "InvoiceDate         0\n",
      "UnitPrice           0\n",
      "CustomerID     135037\n",
      "Country             0\n",
      "dtype: int64\n",
      "\n",
      "Missing values after cleaning:\n",
      " InvoiceNo      0\n",
      "StockCode      0\n",
      "Description    0\n",
      "Quantity       0\n",
      "InvoiceDate    0\n",
      "UnitPrice      0\n",
      "CustomerID     0\n",
      "Country        0\n",
      "dtype: int64\n"
     ]
    }
   ],
   "source": [
    "# Before\n",
    "print(\"Missing values before cleaning:\\n\", full_data.isnull().sum())\n",
    "\n",
    "# Drop rows with missing CustomerID\n",
    "full_data = full_data.dropna(subset=['CustomerID'])\n",
    "incremental_data = incremental_data.dropna(subset=['CustomerID'])\n",
    "\n",
    "# After\n",
    "print(\"\\nMissing values after cleaning:\\n\", full_data.isnull().sum())"
   ]
  },
  {
   "cell_type": "markdown",
   "id": "20739c47",
   "metadata": {},
   "source": [
    "- Removes incomplete rows to ensure valid customer transactions."
   ]
  },
  {
   "cell_type": "markdown",
   "id": "221f790d",
   "metadata": {},
   "source": [
    "Transformation 2: Remove Duplicates (Cleaning)"
   ]
  },
  {
   "cell_type": "code",
   "execution_count": 4,
   "id": "314e3891",
   "metadata": {},
   "outputs": [
    {
     "name": "stdout",
     "output_type": "stream",
     "text": [
      "Duplicates before: 0\n",
      "Duplicates after: 0\n"
     ]
    }
   ],
   "source": [
    "# Before\n",
    "print(\"Duplicates before:\", full_data.duplicated().sum())\n",
    "\n",
    "# Remove duplicates\n",
    "full_data.drop_duplicates(inplace=True)\n",
    "incremental_data.drop_duplicates(inplace=True)\n",
    "\n",
    "# After\n",
    "print(\"Duplicates after:\", full_data.duplicated().sum())"
   ]
  },
  {
   "cell_type": "markdown",
   "id": "8b2a25b9",
   "metadata": {},
   "source": [
    "- Ensures unique transaction records"
   ]
  },
  {
   "cell_type": "markdown",
   "id": "3ead94e7",
   "metadata": {},
   "source": [
    "Transformation 3: Convert and Format Dates (Standardization)"
   ]
  },
  {
   "cell_type": "code",
   "execution_count": 5,
   "id": "9a73a796",
   "metadata": {},
   "outputs": [
    {
     "name": "stdout",
     "output_type": "stream",
     "text": [
      "Date type before: object\n",
      "Date type after: datetime64[ns]\n"
     ]
    }
   ],
   "source": [
    "# Before\n",
    "print(\"Date type before:\", full_data['InvoiceDate'].dtype)\n",
    "\n",
    "# Convert InvoiceDate to datetime\n",
    "full_data['InvoiceDate'] = pd.to_datetime(full_data['InvoiceDate'], errors='coerce')\n",
    "incremental_data['InvoiceDate'] = pd.to_datetime(incremental_data['InvoiceDate'], errors='coerce')\n",
    "\n",
    "# After\n",
    "print(\"Date type after:\", full_data['InvoiceDate'].dtype)\n"
   ]
  },
  {
   "cell_type": "markdown",
   "id": "db1ed835",
   "metadata": {},
   "source": [
    "- Converts InvoiceDate from string/object to proper datetime type."
   ]
  },
  {
   "cell_type": "markdown",
   "id": "52ded220",
   "metadata": {},
   "source": [
    "Transformation 4: Add Derived Column (Enrichment)"
   ]
  },
  {
   "cell_type": "code",
   "execution_count": 6,
   "id": "6fb05961",
   "metadata": {},
   "outputs": [
    {
     "name": "stdout",
     "output_type": "stream",
     "text": [
      "  InvoiceNo StockCode                         Description  Quantity  \\\n",
      "0    536365    85123A  WHITE HANGING HEART T-LIGHT HOLDER         6   \n",
      "1    536365     71053                 WHITE METAL LANTERN         6   \n",
      "\n",
      "          InvoiceDate  UnitPrice  CustomerID         Country  \n",
      "0 2010-12-01 08:26:00       2.55     17850.0  United Kingdom  \n",
      "1 2010-12-01 08:26:00       3.39     17850.0  United Kingdom  \n",
      "   Quantity  UnitPrice  TotalCost\n",
      "0         6       2.55      15.30\n",
      "1         6       3.39      20.34\n"
     ]
    }
   ],
   "source": [
    "# Before\n",
    "print(full_data.head(2))\n",
    "\n",
    "# Create a new column: total_cost = Quantity * UnitPrice\n",
    "full_data['TotalCost'] = full_data['Quantity'] * full_data['UnitPrice']\n",
    "incremental_data['TotalCost'] = incremental_data['Quantity'] * incremental_data['UnitPrice']\n",
    "\n",
    "# After\n",
    "print(full_data[['Quantity', 'UnitPrice', 'TotalCost']].head(2))"
   ]
  },
  {
   "cell_type": "markdown",
   "id": "edd195cb",
   "metadata": {},
   "source": [
    "- Adds a useful metric for business analysis (sales amount per transaction)."
   ]
  },
  {
   "cell_type": "markdown",
   "id": "fc957453",
   "metadata": {},
   "source": [
    "Transformation 5: Filter Out Irrelevant or Invalid Records (Structural)"
   ]
  },
  {
   "cell_type": "code",
   "execution_count": 7,
   "id": "c3048ca3",
   "metadata": {},
   "outputs": [
    {
     "name": "stdout",
     "output_type": "stream",
     "text": [
      "Before filtering: (401604, 9)\n",
      "After filtering: (392692, 9)\n"
     ]
    }
   ],
   "source": [
    "# Before\n",
    "print(\"Before filtering:\", full_data.shape)\n",
    "\n",
    "# Keep only positive Quantity and UnitPrice\n",
    "full_data = full_data[(full_data['Quantity'] > 0) & (full_data['UnitPrice'] > 0)]\n",
    "incremental_data = incremental_data[(incremental_data['Quantity'] > 0) & (incremental_data['UnitPrice'] > 0)]\n",
    "\n",
    "# After\n",
    "print(\"After filtering:\", full_data.shape)\n"
   ]
  },
  {
   "cell_type": "markdown",
   "id": "fc43f5c1",
   "metadata": {},
   "source": [
    "- Removes invalid transactions (negative or zero values)."
   ]
  },
  {
   "cell_type": "markdown",
   "id": "862810e3",
   "metadata": {},
   "source": [
    "Transformation 6 : Categorize Sales into Brackets"
   ]
  },
  {
   "cell_type": "code",
   "execution_count": 8,
   "id": "53aa036e",
   "metadata": {},
   "outputs": [
    {
     "name": "stdout",
     "output_type": "stream",
     "text": [
      "   TotalCost SalesCategory\n",
      "0      15.30      Very Low\n",
      "1      20.34      Very Low\n",
      "2      22.00      Very Low\n",
      "3      20.34      Very Low\n",
      "4      20.34      Very Low\n"
     ]
    }
   ],
   "source": [
    "# Create sales categories\n",
    "bins = [0, 50, 200, 500, 1000, full_data['TotalCost'].max()]\n",
    "labels = ['Very Low', 'Low', 'Medium', 'High', 'Very High']\n",
    "full_data['SalesCategory'] = pd.cut(full_data['TotalCost'], bins=bins, labels=labels, include_lowest=True)\n",
    "incremental_data['SalesCategory'] = pd.cut(incremental_data['TotalCost'], bins=bins, labels=labels, include_lowest=True)\n",
    "\n",
    "print(full_data[['TotalCost', 'SalesCategory']].head(5))"
   ]
  },
  {
   "cell_type": "markdown",
   "id": "6f91d508",
   "metadata": {},
   "source": [
    "- Adds meaningful business segmentation — useful for reports and dashboards."
   ]
  },
  {
   "cell_type": "markdown",
   "id": "c05746c8",
   "metadata": {},
   "source": [
    "Save Transformed Data"
   ]
  },
  {
   "cell_type": "code",
   "execution_count": 9,
   "id": "170164fd",
   "metadata": {},
   "outputs": [
    {
     "name": "stdout",
     "output_type": "stream",
     "text": [
      "✅ Transformed datasets saved successfully.\n"
     ]
    }
   ],
   "source": [
    "# Save transformed datasets\n",
    "full_data.to_csv('transformed/transformed_full.csv', index=False)\n",
    "incremental_data.to_csv('transformed/transformed_incremental.csv', index=False)\n",
    "\n",
    "print(\"✅ Transformed datasets saved successfully.\")\n"
   ]
  }
 ],
 "metadata": {
  "kernelspec": {
   "display_name": "Python 3",
   "language": "python",
   "name": "python3"
  },
  "language_info": {
   "codemirror_mode": {
    "name": "ipython",
    "version": 3
   },
   "file_extension": ".py",
   "mimetype": "text/x-python",
   "name": "python",
   "nbconvert_exporter": "python",
   "pygments_lexer": "ipython3",
   "version": "3.13.7"
  }
 },
 "nbformat": 4,
 "nbformat_minor": 5
}
